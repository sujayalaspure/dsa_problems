{
 "cells": [
  {
   "cell_type": "code",
   "execution_count": null,
   "metadata": {
    "vscode": {
     "languageId": "javascript"
    }
   },
   "outputs": [],
   "source": [
    "%%script node\n",
    "// \n",
    "console.log(1);\n",
    "const promise = new Promise((resolve) => {\n",
    "  console.log(2);\n",
    "  resolve();\n",
    "  console.log(3);\n",
    "});\n",
    "\n",
    "console.log(4);\n",
    "\n",
    "promise\n",
    "  .then(() => {\n",
    "    console.log(5);\n",
    "  })\n",
    "  .then(() => {\n",
    "    console.log(6);\n",
    "  });\n",
    "\n",
    "console.log(7);\n",
    "\n",
    "setTimeout(() => {\n",
    "  console.log(8);\n",
    "}, 10);\n",
    "\n",
    "setTimeout(() => {\n",
    "  console.log(9);\n",
    "}, 0);\n"
   ]
  },
  {
   "cell_type": "code",
   "execution_count": 14,
   "metadata": {
    "vscode": {
     "languageId": "javascript"
    }
   },
   "outputs": [
    {
     "name": "stdout",
     "output_type": "stream",
     "text": [
      "6\n"
     ]
    }
   ],
   "source": [
    "%%script node\n",
    "Promise.resolve(1) // 1\n",
    ".then(() => 2) // 2 (as 1 isn't used)\n",
    ".then(3) // skip\n",
    ".then((value) => value * 3) // 2 * 3 == 6\n",
    ".then(Promise.resolve(4)) // creates a Pending promise\n",
    ".then(console.log) // funnels 6 into console.log"
   ]
  },
  {
   "cell_type": "markdown",
   "metadata": {},
   "source": [
    "### Explaination for above code\n",
    "// 1. promise1 is a fulfilled promise with value 1\n",
    "```js\n",
    " const promise1 = Promise.resolve(1)\n",
    " ```\n",
    "\n",
    "// 2. promise2 is a fulfilled promise with value 2\n",
    "```js\n",
    "const promise2 = promise1.then(() => 2) \n",
    "```\n",
    "\n",
    "// 3. promise3 is a fulfilled promise with value 2, because 3 is not a function , then the onFulfilled function will be set as (value) => { return value }, the value is from promise2\n",
    "```js\n",
    "const promise3 = promise2.then(3)\n",
    "```\n",
    "\n",
    "// 4. promise4 is a fulfilled promise with value 6\n",
    "```js\n",
    "const promise4 = promise3.then((value) => value * 3)\n",
    "```\n",
    "\n",
    "// 5. promise5 is a fulfilled promise with value 6, because Promise.resolve(4) is also not a function, then the onFulfilled function will be set as the same in step 3\n",
    "```js\n",
    "const promise5 = promise4.then(Promise.resolve(4))\n",
    "```\n",
    "\n",
    "// 6. promise6 is a fulfilled promise with value undefined, and console.log(value), value is 6\n",
    "```js\n",
    "const promise6 = promise5.then(console.log)\n",
    "```\n"
   ]
  },
  {
   "cell_type": "code",
   "execution_count": 17,
   "metadata": {
    "vscode": {
     "languageId": "javascript"
    }
   },
   "outputs": [
    {
     "name": "stdout",
     "output_type": "stream",
     "text": [
      "1 1\n",
      "2 2\n",
      "3 undefined\n",
      "4 3\n",
      "5 undefined\n",
      "6 4\n",
      "7 undefined\n",
      "8 undefined\n"
     ]
    }
   ],
   "source": [
    "%%script node\n",
    "\n",
    "Promise.resolve(1)\n",
    ".then((val) => {\n",
    "  console.log(\"1\",val)\n",
    "  return val + 1\n",
    "}).then((val) => {\n",
    "  console.log(\"2\",val)\n",
    "}).then((val) => {\n",
    "  console.log(\"3\",val)\n",
    "  return Promise.resolve(3)\n",
    "    .then((val) => {\n",
    "      console.log(\"4\",val)\n",
    "    })\n",
    "}).then((val) => {\n",
    "  console.log(\"5\",val)\n",
    "  return Promise.reject(4)\n",
    "}).catch((val) => {\n",
    "  console.log(\"6\",val)\n",
    "}).finally((val) => {\n",
    "  console.log(\"7\",val)\n",
    "  return 10\n",
    "}).then((val) => {\n",
    "  console.log(\"8\",val)\n",
    "})"
   ]
  }
 ],
 "metadata": {
  "kernelspec": {
   "display_name": "Python 3.9.7 64-bit",
   "language": "python",
   "name": "python3"
  },
  "language_info": {
   "codemirror_mode": {
    "name": "ipython",
    "version": 3
   },
   "file_extension": ".py",
   "mimetype": "text/x-python",
   "name": "python",
   "nbconvert_exporter": "python",
   "pygments_lexer": "ipython3",
   "version": "3.9.7"
  },
  "orig_nbformat": 4,
  "vscode": {
   "interpreter": {
    "hash": "aee8b7b246df8f9039afb4144a1f6fd8d2ca17a180786b69acc140d282b71a49"
   }
  }
 },
 "nbformat": 4,
 "nbformat_minor": 2
}
